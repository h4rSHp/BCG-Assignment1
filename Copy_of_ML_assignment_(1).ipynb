{
  "nbformat": 4,
  "nbformat_minor": 0,
  "metadata": {
    "colab": {
      "name": "Copy of ML_assignment (1).ipynb",
      "provenance": [],
      "collapsed_sections": [],
      "toc_visible": true,
      "include_colab_link": true
    },
    "kernelspec": {
      "name": "python3",
      "display_name": "Python 3"
    },
    "language_info": {
      "name": "python"
    },
    "accelerator": "GPU"
  },
  "cells": [
    {
      "cell_type": "markdown",
      "metadata": {
        "id": "view-in-github",
        "colab_type": "text"
      },
      "source": [
        "<a href=\"https://colab.research.google.com/github/h4rSHp/BCG-Assignment1/blob/main/Copy_of_ML_assignment_(1).ipynb\" target=\"_parent\"><img src=\"https://colab.research.google.com/assets/colab-badge.svg\" alt=\"Open In Colab\"/></a>"
      ]
    },
    {
      "cell_type": "markdown",
      "metadata": {
        "id": "1QF452i0Dj_2"
      },
      "source": [
        "## Question 1 : Linear Regression\n",
        "To check whether you are able to build simple linear regression model from scratch or not."
      ]
    },
    {
      "cell_type": "code",
      "metadata": {
        "colab": {
          "base_uri": "https://localhost:8080/"
        },
        "id": "ZKlQC2VpDj_5",
        "outputId": "12d6d56d-1058-44d9-c21a-15a38995fae4"
      },
      "source": [
        "import numpy as np\n",
        "import matplotlib.pyplot as plt\n",
        "import tensorflow as tf\n",
        "from numpy.linalg import inv\n",
        "from matplotlib import pyplot\n",
        "\n",
        " \n",
        "!wget --no-check-certificate https://github.com/adigup390/datasets/raw/main/X.npy -O X.npy\n",
        "!wget --no-check-certificate https://github.com/adigup390/datasets/raw/main/y.npy -O y.npy"
      ],
      "execution_count": 10,
      "outputs": [
        {
          "output_type": "stream",
          "text": [
            "--2021-05-28 06:33:41--  https://github.com/adigup390/datasets/raw/main/X.npy\n",
            "Resolving github.com (github.com)... 140.82.114.3\n",
            "Connecting to github.com (github.com)|140.82.114.3|:443... connected.\n",
            "HTTP request sent, awaiting response... 302 Found\n",
            "Location: https://raw.githubusercontent.com/adigup390/datasets/main/X.npy [following]\n",
            "--2021-05-28 06:33:41--  https://raw.githubusercontent.com/adigup390/datasets/main/X.npy\n",
            "Resolving raw.githubusercontent.com (raw.githubusercontent.com)... 185.199.108.133, 185.199.110.133, 185.199.111.133, ...\n",
            "Connecting to raw.githubusercontent.com (raw.githubusercontent.com)|185.199.108.133|:443... connected.\n",
            "HTTP request sent, awaiting response... 200 OK\n",
            "Length: 528 [application/octet-stream]\n",
            "Saving to: ‘X.npy’\n",
            "\n",
            "X.npy               100%[===================>]     528  --.-KB/s    in 0s      \n",
            "\n",
            "2021-05-28 06:33:42 (27.4 MB/s) - ‘X.npy’ saved [528/528]\n",
            "\n",
            "--2021-05-28 06:33:42--  https://github.com/adigup390/datasets/raw/main/y.npy\n",
            "Resolving github.com (github.com)... 140.82.113.4\n",
            "Connecting to github.com (github.com)|140.82.113.4|:443... connected.\n",
            "HTTP request sent, awaiting response... 302 Found\n",
            "Location: https://raw.githubusercontent.com/adigup390/datasets/main/y.npy [following]\n",
            "--2021-05-28 06:33:42--  https://raw.githubusercontent.com/adigup390/datasets/main/y.npy\n",
            "Resolving raw.githubusercontent.com (raw.githubusercontent.com)... 185.199.108.133, 185.199.109.133, 185.199.110.133, ...\n",
            "Connecting to raw.githubusercontent.com (raw.githubusercontent.com)|185.199.108.133|:443... connected.\n",
            "HTTP request sent, awaiting response... 200 OK\n",
            "Length: 528 [application/octet-stream]\n",
            "Saving to: ‘y.npy’\n",
            "\n",
            "y.npy               100%[===================>]     528  --.-KB/s    in 0s      \n",
            "\n",
            "2021-05-28 06:33:42 (27.5 MB/s) - ‘y.npy’ saved [528/528]\n",
            "\n"
          ],
          "name": "stdout"
        }
      ]
    },
    {
      "cell_type": "code",
      "metadata": {
        "id": "wLHxXEr_Dj_8"
      },
      "source": [
        "def load_data_LR():\n",
        "  # Implement this function to read the dataset using the path declared in path_X and path_y\n",
        "  # should return the X and y data\n",
        "  # use np.load() to load the data google it you will get to know how to do it\n",
        "\n",
        "  path_X = \"X.npy\"\n",
        "  path_y = \"y.npy\"\n",
        "\n",
        "  # Write your code here ----------\n",
        "\n",
        "  X = np.load(path_X)\n",
        "  y = np.load(path_y)\n",
        "\n",
        "  # -------------------------------\n",
        "\n",
        "  return X, y"
      ],
      "execution_count": 11,
      "outputs": []
    },
    {
      "cell_type": "code",
      "metadata": {
        "id": "zPHCFMImDj_9"
      },
      "source": [
        "def get_linear_model(X, y):\n",
        "  # This should return a proper linear model without bias of type y = XW\n",
        "\n",
        "  # Write your code here ----------\n",
        "  \n",
        "  model = tf.keras.Sequential([tf.keras.layers.Dense(units = 1)])\n",
        "  model.compile(optimizer = 'sgd', loss = 'mean_squared_error')\n",
        "  model.fit(X, y, epochs=100)\n",
        "  \n",
        "  return model;\n",
        "  # -------------------------------\n",
        "  \n",
        "  # W = np.random.randn(D, out_shape)\n",
        "\n",
        "  # return W"
      ],
      "execution_count": 12,
      "outputs": []
    },
    {
      "cell_type": "code",
      "metadata": {
        "id": "Gdd9Cp86DkAA"
      },
      "source": [
        "def MSE(y, y_pred):\n",
        "  # should return the mean square error between the actual y and predicted y\n",
        "\n",
        "  # Write your code here ----------\n",
        "  sum = 0 \n",
        "  for i,j in zip(y, y_pred):\n",
        "    sum = sum + (i-j)*(i-j)\n",
        "\n",
        "  length = len(y_pred)\n",
        "  error = sum/length\n",
        "  # -------------------------------\n",
        "\n",
        "  return error"
      ],
      "execution_count": 13,
      "outputs": []
    },
    {
      "cell_type": "code",
      "metadata": {
        "id": "37Yk-rAKDkAD"
      },
      "source": [
        "def train_by_algebra(X, y):\n",
        "  # should return the trained weight 'W' using the linear algebra method i.e. setting dE/dW = 0\n",
        "  W = inv(X.T.dot(X)).dot(X.T).dot(y)\n",
        "  # Write your code here ----------\n",
        "  # -------------------------------\n",
        "\n",
        "  return W"
      ],
      "execution_count": 14,
      "outputs": []
    },
    {
      "cell_type": "code",
      "metadata": {
        "id": "o8__Je97DkAG"
      },
      "source": [
        "def train_by_GD(X, y, epochs, l):\n",
        "  # should return the trained weight 'W' using the gradient descent for number of iterations equals to epochs\n",
        "  # should also return error history int the cariable error_hist.shape = (epochs,); error_hist[i] = mean square error after epoch i-1\n",
        "  # should also print mean square error after each epoch/ iteration\n",
        "  # lr = \"learning rate\" i.e. eta\n",
        "  \n",
        "  # Write your code here ----------\n",
        "  W = 0\n",
        "  n = float(len(X))\n",
        "  error_hist = []\n",
        "  # error_hist.reshape = (epochs,)\n",
        "\n",
        "  for j in range(epochs):\n",
        "    y_pred = W * X\n",
        "    D_w = (-2/n) * sum(X * (y - y_pred))\n",
        "    W = W - l*D_w\n",
        "    mse = (1/n) * sum(y * y - y_pred * y_pred)\n",
        "    \n",
        "    error_hist.append(mse[0])\n",
        "    \n",
        "\n",
        "  epochs_list = [*range(1, epochs+1, 1)]\n",
        "  print(W)\n",
        "  y_pred = W*X\n",
        "\n",
        "  pyplot.plot(epochs_list, error_hist, color='r')\n",
        "  pyplot.xlabel(\"epoch\")\n",
        "  pyplot.ylabel(\"Mean Square error\")\n",
        "  pyplot.show()\n",
        "\n",
        "  pyplot.scatter(X, y, color='r', label = 'y')\n",
        "  pyplot.plot(X, y_pred, color='b', label = 'y_pred')\n",
        "  pyplot.xlabel(\"X\")\n",
        "  pyplot.ylabel(\"Y and Y_pred\")\n",
        "  pyplot.legend(loc = 'lower right')\n",
        "  pyplot.show()\n",
        "  # -------------------------------\n",
        "\n",
        "  return W\n",
        "  # return W, error_hist"
      ],
      "execution_count": 15,
      "outputs": []
    },
    {
      "cell_type": "markdown",
      "metadata": {
        "id": "K86LYQHaDkAK"
      },
      "source": [
        "### Now write a complete code using the function defined above to learn the model for following cases:"
      ]
    },
    {
      "cell_type": "markdown",
      "metadata": {
        "id": "ULexFK9CDkAL"
      },
      "source": [
        "##### Learn **W** using linear algebra method and prints mean square error between actual y and predicted y. Use `y_pred = XW`. Also plot y_pred and y on different plots."
      ]
    },
    {
      "cell_type": "code",
      "metadata": {
        "colab": {
          "base_uri": "https://localhost:8080/",
          "height": 1000
        },
        "id": "GNscimuPDkAM",
        "outputId": "9872f928-4dd4-42d1-97ae-6f64174029bd"
      },
      "source": [
        "# Write your code here ----------\n",
        "  \n",
        "X, y = load_data_LR()\n",
        "\n",
        "model = get_linear_model(X, y)\n",
        "# print(x)\n",
        "# print(y)\n",
        "\n",
        "W = train_by_algebra(X, y)\n",
        "print(W)\n",
        "\n",
        "y_pred = X*W\n",
        "\n",
        "# print(y_pred)\n",
        "\n",
        "mse = MSE(y, y_pred)\n",
        "\n",
        "print(mse)\n",
        "\n",
        "pyplot.scatter(X, y, color='r')\n",
        "pyplot.plot(X, y_pred, color='b')\n",
        "pyplot.show()\n",
        "\n",
        "\n",
        "# -------------------------------"
      ],
      "execution_count": 16,
      "outputs": [
        {
          "output_type": "stream",
          "text": [
            "Epoch 1/100\n",
            "2/2 [==============================] - 0s 5ms/step - loss: 745.5669\n",
            "Epoch 2/100\n",
            "2/2 [==============================] - 0s 4ms/step - loss: 334.2440\n",
            "Epoch 3/100\n",
            "2/2 [==============================] - 0s 7ms/step - loss: 160.3952\n",
            "Epoch 4/100\n",
            "2/2 [==============================] - 0s 5ms/step - loss: 75.6985\n",
            "Epoch 5/100\n",
            "2/2 [==============================] - 0s 2ms/step - loss: 38.0084\n",
            "Epoch 6/100\n",
            "2/2 [==============================] - 0s 7ms/step - loss: 21.2284\n",
            "Epoch 7/100\n",
            "2/2 [==============================] - 0s 5ms/step - loss: 13.2249\n",
            "Epoch 8/100\n",
            "2/2 [==============================] - 0s 5ms/step - loss: 9.8399\n",
            "Epoch 9/100\n",
            "2/2 [==============================] - 0s 4ms/step - loss: 8.3436\n",
            "Epoch 10/100\n",
            "2/2 [==============================] - 0s 5ms/step - loss: 7.6227\n",
            "Epoch 11/100\n",
            "2/2 [==============================] - 0s 5ms/step - loss: 7.3063\n",
            "Epoch 12/100\n",
            "2/2 [==============================] - 0s 5ms/step - loss: 7.1481\n",
            "Epoch 13/100\n",
            "2/2 [==============================] - 0s 5ms/step - loss: 7.0432\n",
            "Epoch 14/100\n",
            "2/2 [==============================] - 0s 5ms/step - loss: 7.0359\n",
            "Epoch 15/100\n",
            "2/2 [==============================] - 0s 5ms/step - loss: 6.9787\n",
            "Epoch 16/100\n",
            "2/2 [==============================] - 0s 5ms/step - loss: 6.9464\n",
            "Epoch 17/100\n",
            "2/2 [==============================] - 0s 4ms/step - loss: 6.8975\n",
            "Epoch 18/100\n",
            "2/2 [==============================] - 0s 4ms/step - loss: 6.8702\n",
            "Epoch 19/100\n",
            "2/2 [==============================] - 0s 5ms/step - loss: 6.8623\n",
            "Epoch 20/100\n",
            "2/2 [==============================] - 0s 15ms/step - loss: 6.8349\n",
            "Epoch 21/100\n",
            "2/2 [==============================] - 0s 5ms/step - loss: 6.7962\n",
            "Epoch 22/100\n",
            "2/2 [==============================] - 0s 5ms/step - loss: 6.7707\n",
            "Epoch 23/100\n",
            "2/2 [==============================] - 0s 7ms/step - loss: 6.7723\n",
            "Epoch 24/100\n",
            "2/2 [==============================] - 0s 6ms/step - loss: 6.7709\n",
            "Epoch 25/100\n",
            "2/2 [==============================] - 0s 5ms/step - loss: 6.7333\n",
            "Epoch 26/100\n",
            "2/2 [==============================] - 0s 5ms/step - loss: 6.6896\n",
            "Epoch 27/100\n",
            "2/2 [==============================] - 0s 7ms/step - loss: 6.6617\n",
            "Epoch 28/100\n",
            "2/2 [==============================] - 0s 5ms/step - loss: 6.6694\n",
            "Epoch 29/100\n",
            "2/2 [==============================] - 0s 7ms/step - loss: 6.6128\n",
            "Epoch 30/100\n",
            "2/2 [==============================] - 0s 8ms/step - loss: 6.5934\n",
            "Epoch 31/100\n",
            "2/2 [==============================] - 0s 9ms/step - loss: 6.5744\n",
            "Epoch 32/100\n",
            "2/2 [==============================] - 0s 5ms/step - loss: 6.5877\n",
            "Epoch 33/100\n",
            "2/2 [==============================] - 0s 5ms/step - loss: 6.5699\n",
            "Epoch 34/100\n",
            "2/2 [==============================] - 0s 7ms/step - loss: 6.5246\n",
            "Epoch 35/100\n",
            "2/2 [==============================] - 0s 5ms/step - loss: 6.4987\n",
            "Epoch 36/100\n",
            "2/2 [==============================] - 0s 3ms/step - loss: 6.4793\n",
            "Epoch 37/100\n",
            "2/2 [==============================] - 0s 6ms/step - loss: 6.5718\n",
            "Epoch 38/100\n",
            "2/2 [==============================] - 0s 7ms/step - loss: 6.5309\n",
            "Epoch 39/100\n",
            "2/2 [==============================] - 0s 7ms/step - loss: 6.4264\n",
            "Epoch 40/100\n",
            "2/2 [==============================] - 0s 5ms/step - loss: 6.4265\n",
            "Epoch 41/100\n",
            "2/2 [==============================] - 0s 5ms/step - loss: 6.3908\n",
            "Epoch 42/100\n",
            "2/2 [==============================] - 0s 8ms/step - loss: 6.3908\n",
            "Epoch 43/100\n",
            "2/2 [==============================] - 0s 4ms/step - loss: 6.3638\n",
            "Epoch 44/100\n",
            "2/2 [==============================] - 0s 6ms/step - loss: 6.3454\n",
            "Epoch 45/100\n",
            "2/2 [==============================] - 0s 5ms/step - loss: 6.3650\n",
            "Epoch 46/100\n",
            "2/2 [==============================] - 0s 6ms/step - loss: 6.3081\n",
            "Epoch 47/100\n",
            "2/2 [==============================] - 0s 5ms/step - loss: 6.3143\n",
            "Epoch 48/100\n",
            "2/2 [==============================] - 0s 5ms/step - loss: 6.3044\n",
            "Epoch 49/100\n",
            "2/2 [==============================] - 0s 4ms/step - loss: 6.2611\n",
            "Epoch 50/100\n",
            "2/2 [==============================] - 0s 5ms/step - loss: 6.2620\n",
            "Epoch 51/100\n",
            "2/2 [==============================] - 0s 5ms/step - loss: 6.2399\n",
            "Epoch 52/100\n",
            "2/2 [==============================] - 0s 4ms/step - loss: 6.2811\n",
            "Epoch 53/100\n",
            "2/2 [==============================] - 0s 6ms/step - loss: 6.2022\n",
            "Epoch 54/100\n",
            "2/2 [==============================] - 0s 8ms/step - loss: 6.1990\n",
            "Epoch 55/100\n",
            "2/2 [==============================] - 0s 6ms/step - loss: 6.1945\n",
            "Epoch 56/100\n",
            "2/2 [==============================] - 0s 8ms/step - loss: 6.1694\n",
            "Epoch 57/100\n",
            "2/2 [==============================] - 0s 5ms/step - loss: 6.1520\n",
            "Epoch 58/100\n",
            "2/2 [==============================] - 0s 7ms/step - loss: 6.1345\n",
            "Epoch 59/100\n",
            "2/2 [==============================] - 0s 6ms/step - loss: 6.1291\n",
            "Epoch 60/100\n",
            "2/2 [==============================] - 0s 8ms/step - loss: 6.1387\n",
            "Epoch 61/100\n",
            "2/2 [==============================] - 0s 4ms/step - loss: 6.1072\n",
            "Epoch 62/100\n",
            "2/2 [==============================] - 0s 8ms/step - loss: 6.1054\n",
            "Epoch 63/100\n",
            "2/2 [==============================] - 0s 7ms/step - loss: 6.0975\n",
            "Epoch 64/100\n",
            "2/2 [==============================] - 0s 4ms/step - loss: 6.0703\n",
            "Epoch 65/100\n",
            "2/2 [==============================] - 0s 11ms/step - loss: 6.1088\n",
            "Epoch 66/100\n",
            "2/2 [==============================] - 0s 5ms/step - loss: 6.1092\n",
            "Epoch 67/100\n",
            "2/2 [==============================] - 0s 6ms/step - loss: 6.0456\n",
            "Epoch 68/100\n",
            "2/2 [==============================] - 0s 8ms/step - loss: 6.0326\n",
            "Epoch 69/100\n",
            "2/2 [==============================] - 0s 3ms/step - loss: 6.0130\n",
            "Epoch 70/100\n",
            "2/2 [==============================] - 0s 4ms/step - loss: 6.0548\n",
            "Epoch 71/100\n",
            "2/2 [==============================] - 0s 6ms/step - loss: 6.0424\n",
            "Epoch 72/100\n",
            "2/2 [==============================] - 0s 9ms/step - loss: 5.9984\n",
            "Epoch 73/100\n",
            "2/2 [==============================] - 0s 5ms/step - loss: 5.9821\n",
            "Epoch 74/100\n",
            "2/2 [==============================] - 0s 3ms/step - loss: 6.0253\n",
            "Epoch 75/100\n",
            "2/2 [==============================] - 0s 8ms/step - loss: 5.9751\n",
            "Epoch 76/100\n",
            "2/2 [==============================] - 0s 3ms/step - loss: 5.9507\n",
            "Epoch 77/100\n",
            "2/2 [==============================] - 0s 4ms/step - loss: 5.9509\n",
            "Epoch 78/100\n",
            "2/2 [==============================] - 0s 6ms/step - loss: 5.9303\n",
            "Epoch 79/100\n",
            "2/2 [==============================] - 0s 6ms/step - loss: 5.9776\n",
            "Epoch 80/100\n",
            "2/2 [==============================] - 0s 4ms/step - loss: 5.9193\n",
            "Epoch 81/100\n",
            "2/2 [==============================] - 0s 3ms/step - loss: 5.9156\n",
            "Epoch 82/100\n",
            "2/2 [==============================] - 0s 6ms/step - loss: 5.9051\n",
            "Epoch 83/100\n",
            "2/2 [==============================] - 0s 6ms/step - loss: 5.9297\n",
            "Epoch 84/100\n",
            "2/2 [==============================] - 0s 5ms/step - loss: 5.8926\n",
            "Epoch 85/100\n",
            "2/2 [==============================] - 0s 6ms/step - loss: 5.8859\n",
            "Epoch 86/100\n",
            "2/2 [==============================] - 0s 4ms/step - loss: 5.8754\n",
            "Epoch 87/100\n",
            "2/2 [==============================] - 0s 5ms/step - loss: 5.8748\n",
            "Epoch 88/100\n",
            "2/2 [==============================] - 0s 7ms/step - loss: 5.9195\n",
            "Epoch 89/100\n",
            "2/2 [==============================] - 0s 15ms/step - loss: 5.9005\n",
            "Epoch 90/100\n",
            "2/2 [==============================] - 0s 5ms/step - loss: 5.8415\n",
            "Epoch 91/100\n",
            "2/2 [==============================] - 0s 10ms/step - loss: 5.8699\n",
            "Epoch 92/100\n",
            "2/2 [==============================] - 0s 4ms/step - loss: 5.8336\n",
            "Epoch 93/100\n",
            "2/2 [==============================] - 0s 6ms/step - loss: 5.8635\n",
            "Epoch 94/100\n",
            "2/2 [==============================] - 0s 7ms/step - loss: 5.8343\n",
            "Epoch 95/100\n",
            "2/2 [==============================] - 0s 6ms/step - loss: 5.8246\n",
            "Epoch 96/100\n",
            "2/2 [==============================] - 0s 5ms/step - loss: 5.8339\n",
            "Epoch 97/100\n",
            "2/2 [==============================] - 0s 5ms/step - loss: 5.8071\n",
            "Epoch 98/100\n",
            "2/2 [==============================] - 0s 8ms/step - loss: 5.7965\n",
            "Epoch 99/100\n",
            "2/2 [==============================] - 0s 9ms/step - loss: 5.8226\n",
            "Epoch 100/100\n",
            "2/2 [==============================] - 0s 4ms/step - loss: 5.7884\n",
            "[[9.98620581]]\n",
            "[5.49005982]\n"
          ],
          "name": "stdout"
        },
        {
          "output_type": "display_data",
          "data": {
            "image/png": "[encoded data removed]",
            "text/plain": [
              "<Figure size 432x288 with 1 Axes>"
            ]
          },
          "metadata": {
            "tags": [],
            "needs_background": "light"
          }
        }
      ]
    },
    {
      "cell_type": "markdown",
      "metadata": {
        "id": "zcbFuv03DkAO"
      },
      "source": [
        "##### Learn **W** using gradient descent method for following learning rates, `lr = [0.01, 0.001, 0.0001]` for **10 epochs**. Plot **MSE vs epochs** for each of them.  Also plot y_pred and y on different plots."
      ]
    },
    {
      "cell_type": "code",
      "metadata": {
        "colab": {
          "base_uri": "https://localhost:8080/",
          "height": 1000
        },
        "id": "y_mgpx8tDkAP",
        "outputId": "f1e6f6b7-a032-4e4d-c76e-718002ac3971"
      },
      "source": [
        "  # Write your code here ----------\n",
        "  X, y = load_data_LR()\n",
        "  L = [0.01, 0.001, 0.0001]\n",
        "\n",
        "  epochs = 10\n",
        "  # epochs = 1000\n",
        "  \n",
        "  for l in L:\n",
        "    train_by_GD(X, y, epochs, l)\n",
        "\n",
        "  # -------------------------------"
      ],
      "execution_count": 17,
      "outputs": [
        {
          "output_type": "stream",
          "text": [
            "[8.27463381]\n"
          ],
          "name": "stdout"
        },
        {
          "output_type": "display_data",
          "data": {
            "image/png": "[encoded data removed]",
            "text/plain": [
              "<Figure size 432x288 with 1 Axes>"
            ]
          },
          "metadata": {
            "tags": [],
            "needs_background": "light"
          }
        },
        {
          "output_type": "display_data",
          "data": {
            "image/png": "[encoded data removed]",
            "text/plain": [
              "<Figure size 432x288 with 1 Axes>"
            ]
          },
          "metadata": {
            "tags": [],
            "needs_background": "light"
          }
        },
        {
          "output_type": "stream",
          "text": [
            "[1.5021967]\n"
          ],
          "name": "stdout"
        },
        {
          "output_type": "display_data",
          "data": {
            "image/png": "[encoded data removed]",
            "text/plain": [
              "<Figure size 432x288 with 1 Axes>"
            ]
          },
          "metadata": {
            "tags": [],
            "needs_background": "light"
          }
        },
        {
          "output_type": "display_data",
          "data": {
            "image/png": "[encoded data removed]",
            "text/plain": [
              "<Figure size 432x288 with 1 Axes>"
            ]
          },
          "metadata": {
            "tags": [],
            "needs_background": "light"
          }
        },
        {
          "output_type": "stream",
          "text": [
            "[0.16030701]\n"
          ],
          "name": "stdout"
        },
        {
          "output_type": "display_data",
          "data": {
            "image/png": "[encoded data removed]",
            "text/plain": [
              "<Figure size 432x288 with 1 Axes>"
            ]
          },
          "metadata": {
            "tags": [],
            "needs_background": "light"
          }
        },
        {
          "output_type": "display_data",
          "data": {
            "image/png": "[encoded data removed]",
            "text/plain": [
              "<Figure size 432x288 with 1 Axes>"
            ]
          },
          "metadata": {
            "tags": [],
            "needs_background": "light"
          }
        }
      ]
    },
    {
      "cell_type": "code",
      "metadata": {
        "id": "pTdrtvcpDkAS"
      },
      "source": [
        ""
      ],
      "execution_count": 17,
      "outputs": []
    },
    {
      "cell_type": "markdown",
      "metadata": {
        "id": "4zJO-LIvn6sD"
      },
      "source": [
        "## Question 2: Image Classification in Tensorflow using Deep Learning\n",
        "To check whether you are able to build a given neural network model in tensorflow or not. First we will build a fully connected NN model second we will build a CNN model."
      ]
    },
    {
      "cell_type": "code",
      "metadata": {
        "id": "7mynGfqRn24b"
      },
      "source": [
        "import numpy as np\n",
        "import tensorflow as tf\n",
        "import matplotlib.pyplot as plt\n",
        "from tensorflow import keras"
      ],
      "execution_count": 1,
      "outputs": []
    },
    {
      "cell_type": "code",
      "metadata": {
        "id": "s8WKt-qY4agV"
      },
      "source": [
        "def plot_history(history):\n",
        "  # function to plot accuracy vs epoch\n",
        "\n",
        "  plt.plot(history.history['accuracy'], label= 'accuracy')\n",
        "  plt.plot(history.history['val_accuracy'], label = 'val_acc')\n",
        "  plt.xlabel('Epoch')\n",
        "  plt.ylabel('Accuracy')\n",
        "  plt.legend(loc='lower right')"
      ],
      "execution_count": 2,
      "outputs": []
    },
    {
      "cell_type": "code",
      "metadata": {
        "id": "tCT9Kmhhn5I_"
      },
      "source": [
        "def load_data_cifar10_norm():\n",
        "  # should return the normalised cifar10 dataset by loading it from tensorflow\n",
        "  # link: https://www.tensorflow.org/api_docs/python/tf/keras/datasets/cifar10/\n",
        "\n",
        "  # Write your code here ----------\n",
        "  (x_train, y_train), (x_test, y_test) = keras.datasets.cifar10.load_data()\n",
        "  x_train, x_test = x_train / 255.0, x_test / 255.0\n",
        "\n",
        "  # -------------------------------\n",
        "\n",
        "  return x_train, y_train, x_test, y_test"
      ],
      "execution_count": 3,
      "outputs": []
    },
    {
      "cell_type": "markdown",
      "metadata": {
        "id": "LDpHSTRPvS9t"
      },
      "source": [
        "### Define a fully connected neural network model with following attributes:\n",
        "\n",
        "*   Total number of **hidden layers = 4**, all with **relu** activation\n",
        "*   Number of neurons in **first hidden layer = 7200**\n",
        "*   Number of neurons in **second hidden layer = 2304**\n",
        "*   Number of neurons in **third hidden layer = 1024**\n",
        "*   Number of neurons in **fourth hidden layer = 64**\n"
      ]
    },
    {
      "cell_type": "code",
      "metadata": {
        "id": "VYYQzIWnqU3t"
      },
      "source": [
        "def build_fc_model(input_shape=(32, 32, 3), num_class=10):\n",
        "  # should return a sequential model defined based on the above attributes\n",
        "  # do not compile the model\n",
        "  # Write your code here ----------\n",
        "  model = tf.keras.Sequential([\n",
        "      tf.keras.layers.Flatten(input_shape = input_shape),\n",
        "      tf.keras.layers.Dense(7200, activation='relu'), \n",
        "      tf.keras.layers.Dense(2304, activation='relu'),\n",
        "      tf.keras.layers.Dense(1024, activation='relu'),\n",
        "      tf.keras.layers.Dense(64, activation='relu'),\n",
        "      tf.keras.layers.Dense(num_class, activation = 'softmax'),\n",
        "  ])\n",
        "  # -------------------------------\n",
        "\n",
        "  return model"
      ],
      "execution_count": 4,
      "outputs": []
    },
    {
      "cell_type": "markdown",
      "metadata": {
        "id": "pdcQ2yqz1RYH"
      },
      "source": [
        "### Define a CNN model with following attribute:\n",
        "\n",
        "*   Total number of **hidden layer = 4**\n",
        "*   After every convolutional layer there must be a MaxPoolingLayer of size (2, 2)\n",
        "*   Total number of convolutional layer = 3, all with **relu** activation.\n",
        "    *    Number of filters in **first convolutional layer = 32**\n",
        "    *    Number of filters in **second convolutional layer = 64**\n",
        "    *    Number of filters in **third convolutional layer = 64**\n",
        "*   After all convolutional layer flatten the output and use **dense layer of 64 neurons**\n",
        "\n"
      ]
    },
    {
      "cell_type": "code",
      "metadata": {
        "id": "T00AYU3D3L1j"
      },
      "source": [
        "def build_cnn_model(input_shape=(32, 32, 3), num_class=10):\n",
        "  # should return a sequential model defined based on the above attributes\n",
        "  # do not compile the model\n",
        "\n",
        "  # Write your code here ----------\n",
        "  model = tf.keras.Sequential([\n",
        "                              tf.keras.layers.Conv2D(32, (3,3), activation='relu', input_shape = input_shape),\n",
        "                              tf.keras.layers.MaxPooling2D(2, 2),\n",
        "                              tf.keras.layers.Conv2D(64, (3, 3), activation = 'relu', input_shape = input_shape),\n",
        "                              tf.keras.layers.MaxPooling2D(2, 2),\n",
        "                              tf.keras.layers.Conv2D(64, (3, 3), activation = 'relu', input_shape = input_shape),\n",
        "                              tf.keras.layers.MaxPooling2D(2, 2),\n",
        "                              tf.keras.layers.Flatten(),\n",
        "                              tf.keras.layers.Dense(64, activation = tf.nn.relu),\n",
        "                              tf.keras.layers.Dense(num_class, activation='softmax'),\n",
        "    ])\n",
        "  # -------------------------------\n",
        "\n",
        "  return model"
      ],
      "execution_count": 5,
      "outputs": []
    },
    {
      "cell_type": "markdown",
      "metadata": {
        "id": "7SXXUeRp4Urq"
      },
      "source": [
        "### Compile and train the fully connected neural network model using the above functions."
      ]
    },
    {
      "cell_type": "code",
      "metadata": {
        "id": "61_XiEUR3eV0",
        "colab": {
          "base_uri": "https://localhost:8080/",
          "height": 1000
        },
        "outputId": "13572323-8ef3-4a77-c3e2-f8611e20b5a8"
      },
      "source": [
        "# Write your code here ----------\n",
        "\n",
        "x_train, y_train, x_test, y_test = load_data_cifar10_norm()\n",
        "\n",
        "model = build_fc_model()\n",
        "\n",
        "model.compile(loss='sparse_categorical_crossentropy', optimizer='adam', metrics=['accuracy'])\n",
        "\n",
        "# -------------------------------\n",
        "\n",
        "history = model.fit(x_train, y_train, epochs=10, batch_size=512, validation_data=(x_test, y_test))\n",
        "\n",
        "# print(model.metrics_names)\n",
        "\n",
        "plot_history(history)\n",
        "model.summary()"
      ],
      "execution_count": 6,
      "outputs": [
        {
          "output_type": "stream",
          "text": [
            "Downloading data from https://www.cs.toronto.edu/~kriz/cifar-10-python.tar.gz\n",
            "170500096/170498071 [==============================] - 4s 0us/step\n",
            "Epoch 1/10\n",
            "98/98 [==============================] - 7s 36ms/step - loss: 2.8166 - accuracy: 0.0973 - val_loss: 2.3026 - val_accuracy: 0.1000\n",
            "Epoch 2/10\n",
            "98/98 [==============================] - 3s 33ms/step - loss: 2.3026 - accuracy: 0.1000 - val_loss: 2.3026 - val_accuracy: 0.1000\n",
            "Epoch 3/10\n",
            "98/98 [==============================] - 3s 33ms/step - loss: 2.3026 - accuracy: 0.1000 - val_loss: 2.3026 - val_accuracy: 0.1000\n",
            "Epoch 4/10\n",
            "98/98 [==============================] - 3s 34ms/step - loss: 2.3026 - accuracy: 0.0977 - val_loss: 2.3026 - val_accuracy: 0.1000\n",
            "Epoch 5/10\n",
            "98/98 [==============================] - 3s 34ms/step - loss: 2.3026 - accuracy: 0.0991 - val_loss: 2.3026 - val_accuracy: 0.1000\n",
            "Epoch 6/10\n",
            "98/98 [==============================] - 3s 34ms/step - loss: 2.3026 - accuracy: 0.0986 - val_loss: 2.3026 - val_accuracy: 0.1000\n",
            "Epoch 7/10\n",
            "98/98 [==============================] - 3s 34ms/step - loss: 2.3026 - accuracy: 0.0985 - val_loss: 2.3026 - val_accuracy: 0.1000\n",
            "Epoch 8/10\n",
            "98/98 [==============================] - 3s 34ms/step - loss: 2.3026 - accuracy: 0.0969 - val_loss: 2.3026 - val_accuracy: 0.1000\n",
            "Epoch 9/10\n",
            "98/98 [==============================] - 3s 34ms/step - loss: 2.3026 - accuracy: 0.0960 - val_loss: 2.3026 - val_accuracy: 0.1000\n",
            "Epoch 10/10\n",
            "98/98 [==============================] - 3s 35ms/step - loss: 2.3026 - accuracy: 0.0989 - val_loss: 2.3026 - val_accuracy: 0.1000\n",
            "Model: \"sequential\"\n",
            "_________________________________________________________________\n",
            "Layer (type)                 Output Shape              Param #   \n",
            "=================================================================\n",
            "flatten (Flatten)            (None, 3072)              0         \n",
            "_________________________________________________________________\n",
            "dense (Dense)                (None, 7200)              22125600  \n",
            "_________________________________________________________________\n",
            "dense_1 (Dense)              (None, 2304)              16591104  \n",
            "_________________________________________________________________\n",
            "dense_2 (Dense)              (None, 1024)              2360320   \n",
            "_________________________________________________________________\n",
            "dense_3 (Dense)              (None, 64)                65600     \n",
            "_________________________________________________________________\n",
            "dense_4 (Dense)              (None, 10)                650       \n",
            "=================================================================\n",
            "Total params: 41,143,274\n",
            "Trainable params: 41,143,274\n",
            "Non-trainable params: 0\n",
            "_________________________________________________________________\n"
          ],
          "name": "stdout"
        },
        {
          "output_type": "display_data",
          "data": {
            "image/png": "[encoded data removed]",
            "text/plain": [
              "<Figure size 432x288 with 1 Axes>"
            ]
          },
          "metadata": {
            "tags": [],
            "needs_background": "light"
          }
        }
      ]
    },
    {
      "cell_type": "markdown",
      "metadata": {
        "id": "Z_yHXGc47ENb"
      },
      "source": [
        "### Compile and train the CNN model using the above functions."
      ]
    },
    {
      "cell_type": "code",
      "metadata": {
        "id": "aM9rueu97Gnq",
        "colab": {
          "base_uri": "https://localhost:8080/",
          "height": 1000
        },
        "outputId": "e335b009-4055-4dcd-b5cc-4390ead4e3d5"
      },
      "source": [
        "# Write your code here ----------\n",
        "x_train, y_train, x_test, y_test = load_data_cifar10_norm()\n",
        "\n",
        "model = build_cnn_model()\n",
        "\n",
        "model.compile(loss='sparse_categorical_crossentropy', optimizer='adam', metrics=['accuracy'])\n",
        "\n",
        "# -------------------------------\n",
        "\n",
        "history = model.fit(x_train, y_train, epochs=10, batch_size=512, validation_data=(x_test, y_test))\n",
        "\n",
        "plot_history(history)\n",
        "model.summary()"
      ],
      "execution_count": 7,
      "outputs": [
        {
          "output_type": "stream",
          "text": [
            "Epoch 1/10\n",
            "98/98 [==============================] - 30s 21ms/step - loss: 1.9305 - accuracy: 0.2916 - val_loss: 1.6491 - val_accuracy: 0.4040\n",
            "Epoch 2/10\n",
            "98/98 [==============================] - 2s 17ms/step - loss: 1.5596 - accuracy: 0.4325 - val_loss: 1.4942 - val_accuracy: 0.4579\n",
            "Epoch 3/10\n",
            "98/98 [==============================] - 2s 17ms/step - loss: 1.4210 - accuracy: 0.4868 - val_loss: 1.3876 - val_accuracy: 0.5063\n",
            "Epoch 4/10\n",
            "98/98 [==============================] - 2s 16ms/step - loss: 1.3412 - accuracy: 0.5205 - val_loss: 1.3091 - val_accuracy: 0.5370\n",
            "Epoch 5/10\n",
            "98/98 [==============================] - 2s 17ms/step - loss: 1.2692 - accuracy: 0.5466 - val_loss: 1.2835 - val_accuracy: 0.5450\n",
            "Epoch 6/10\n",
            "98/98 [==============================] - 2s 17ms/step - loss: 1.2195 - accuracy: 0.5676 - val_loss: 1.1940 - val_accuracy: 0.5766\n",
            "Epoch 7/10\n",
            "98/98 [==============================] - 2s 16ms/step - loss: 1.1699 - accuracy: 0.5863 - val_loss: 1.1663 - val_accuracy: 0.5880\n",
            "Epoch 8/10\n",
            "98/98 [==============================] - 2s 17ms/step - loss: 1.1411 - accuracy: 0.5967 - val_loss: 1.1757 - val_accuracy: 0.5889\n",
            "Epoch 9/10\n",
            "98/98 [==============================] - 2s 16ms/step - loss: 1.0982 - accuracy: 0.6156 - val_loss: 1.1309 - val_accuracy: 0.6007\n",
            "Epoch 10/10\n",
            "98/98 [==============================] - 2s 17ms/step - loss: 1.0718 - accuracy: 0.6233 - val_loss: 1.1146 - val_accuracy: 0.6116\n",
            "Model: \"sequential_1\"\n",
            "_________________________________________________________________\n",
            "Layer (type)                 Output Shape              Param #   \n",
            "=================================================================\n",
            "conv2d (Conv2D)              (None, 30, 30, 32)        896       \n",
            "_________________________________________________________________\n",
            "max_pooling2d (MaxPooling2D) (None, 15, 15, 32)        0         \n",
            "_________________________________________________________________\n",
            "conv2d_1 (Conv2D)            (None, 13, 13, 64)        18496     \n",
            "_________________________________________________________________\n",
            "max_pooling2d_1 (MaxPooling2 (None, 6, 6, 64)          0         \n",
            "_________________________________________________________________\n",
            "conv2d_2 (Conv2D)            (None, 4, 4, 64)          36928     \n",
            "_________________________________________________________________\n",
            "max_pooling2d_2 (MaxPooling2 (None, 2, 2, 64)          0         \n",
            "_________________________________________________________________\n",
            "flatten_1 (Flatten)          (None, 256)               0         \n",
            "_________________________________________________________________\n",
            "dense_5 (Dense)              (None, 64)                16448     \n",
            "_________________________________________________________________\n",
            "dense_6 (Dense)              (None, 10)                650       \n",
            "=================================================================\n",
            "Total params: 73,418\n",
            "Trainable params: 73,418\n",
            "Non-trainable params: 0\n",
            "_________________________________________________________________\n"
          ],
          "name": "stdout"
        },
        {
          "output_type": "display_data",
          "data": {
            "image/png": "[encoded data removed]",
            "text/plain": [
              "<Figure size 432x288 with 1 Axes>"
            ]
          },
          "metadata": {
            "tags": [],
            "needs_background": "light"
          }
        }
      ]
    },
    {
      "cell_type": "markdown",
      "metadata": {
        "id": "nKwrtPcy750Q"
      },
      "source": [
        "### What do you observe? Compare both the model by looking at their Accuracy vs Epoch plot and total numbers of trainable parameters."
      ]
    },
    {
      "cell_type": "code",
      "metadata": {
        "id": "Q2lFRCoL8N_b",
        "colab": {
          "base_uri": "https://localhost:8080/"
        },
        "outputId": "e9f163e3-56fc-413a-f0b6-6584cfff5c2a"
      },
      "source": [
        "print(\"As the validation accuracy in fc_model is contant around 100% means it can recognise new images with 100% accuracy but in cnn_model the validation accuracy is increasing and also below 60% which means it will not be able to recognise new images as accurate as fc_model.\")"
      ],
      "execution_count": 8,
      "outputs": [
        {
          "output_type": "stream",
          "text": [
            "As the validation accuracy in fc_model is contant around 100% means it can recognise new images with 100% accuracy but in cnn_model the validation accuracy is increasing and also below 60% which means it will not be able to recognise new images as accurate as fc_model.\n"
          ],
          "name": "stdout"
        }
      ]
    }
  ]
}